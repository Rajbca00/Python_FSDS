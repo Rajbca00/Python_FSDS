{
 "cells": [
  {
   "cell_type": "code",
   "execution_count": 1,
   "metadata": {},
   "outputs": [],
   "source": [
    "a= 10"
   ]
  },
  {
   "cell_type": "code",
   "execution_count": 2,
   "metadata": {},
   "outputs": [
    {
     "name": "stdout",
     "output_type": "stream",
     "text": [
      "my name is rajesh\n"
     ]
    }
   ],
   "source": [
    "if a<15:\n",
    "    print(\"my name is rajesh\")"
   ]
  },
  {
   "cell_type": "markdown",
   "metadata": {},
   "source": [
    "**pass** is a keyword which is to do nothing. kind of dead code"
   ]
  },
  {
   "cell_type": "code",
   "execution_count": 3,
   "metadata": {},
   "outputs": [],
   "source": [
    "if a<15:\n",
    "    pass"
   ]
  },
  {
   "cell_type": "code",
   "execution_count": 5,
   "metadata": {},
   "outputs": [],
   "source": [
    "if 24 < 15:\n",
    "    print(\"my name is rajesh\")"
   ]
  },
  {
   "cell_type": "code",
   "execution_count": 6,
   "metadata": {},
   "outputs": [
    {
     "name": "stdout",
     "output_type": "stream",
     "text": [
      "if statement is not true\n"
     ]
    }
   ],
   "source": [
    "if 10 < 3:\n",
    "    print('10 is lesser than 3')\n",
    "else:\n",
    "    print(\"if statement is not true\")"
   ]
  },
  {
   "cell_type": "code",
   "execution_count": 7,
   "metadata": {},
   "outputs": [
    {
     "name": "stdout",
     "output_type": "stream",
     "text": [
      "5 is lesser than 10\n"
     ]
    }
   ],
   "source": [
    "if 5 < 10:\n",
    "    print('5 is lesser than 10')\n",
    "else:\n",
    "    print(\"if statement is not true\")"
   ]
  },
  {
   "cell_type": "code",
   "execution_count": 11,
   "metadata": {},
   "outputs": [
    {
     "name": "stdout",
     "output_type": "stream",
     "text": [
      "80\n",
      "i will be able to rent a house\n"
     ]
    }
   ],
   "source": [
    "income = int(input())\n",
    "print(income)\n",
    "if income < 50:\n",
    "    print(\"I will be able to buy phone\")\n",
    "elif income < 70:\n",
    "    print(\"I will be able to buy car\")\n",
    "elif income < 90:\n",
    "    print(\"i will be able to rent a house\")\n",
    "else:\n",
    "    print(\"i wont be able to buy anything\")"
   ]
  },
  {
   "cell_type": "code",
   "execution_count": 13,
   "metadata": {},
   "outputs": [
    {
     "name": "stdout",
     "output_type": "stream",
     "text": [
      "80000\n",
      "Discount will be  16000.0\n"
     ]
    }
   ],
   "source": [
    "Total_price = int(input())\n",
    "print(Total_price)\n",
    "if Total_price > 20000 :\n",
    "    discount = Total_price * .20\n",
    "    print(\"Discount will be \",discount)\n",
    "elif Total_price <= 7000:\n",
    "    discount = Total_price * .05\n",
    "    print(\"Discount will be \",discount)\n",
    "else:\n",
    "    print(\"Wont be able to give discount\")"
   ]
  },
  {
   "cell_type": "code",
   "execution_count": 14,
   "metadata": {},
   "outputs": [
    {
     "name": "stdout",
     "output_type": "stream",
     "text": [
      "you will be able to get a discount of 5 %\n",
      "You will be able to get one neuron with this amount 6726.0\n"
     ]
    }
   ],
   "source": [
    "couponcode = \"RAJESH5\"\n",
    "if couponcode == \"RAJESH5\":\n",
    "    print(\"you will be able to get a discount of 5 %\")\n",
    "    paid_amount = 7080 - 7080*0.05\n",
    "    print(\"You will be able to get one neuron with this amount\",paid_amount)\n",
    "else:\n",
    "    print(\"kindly use a valid coupon code\")"
   ]
  },
  {
   "cell_type": "code",
   "execution_count": 21,
   "metadata": {},
   "outputs": [
    {
     "name": "stdout",
     "output_type": "stream",
     "text": [
      "4.0\n",
      "It may take 6 month for transition\n"
     ]
    }
   ],
   "source": [
    "study_hour = float(input())\n",
    "print(study_hour)\n",
    "if study_hour <1:\n",
    "    print(\"it may take 8-9 month of time to make transition\")\n",
    "elif study_hour <= 4 and study_hour > 1:\n",
    "    print(\"It may take 6 month for transition\")\n",
    "elif study_hour >= 10:\n",
    "    print(\"it will taje 3 month of time for transition\")"
   ]
  },
  {
   "cell_type": "markdown",
   "metadata": {},
   "source": [
    "Single line if condition statement"
   ]
  },
  {
   "cell_type": "code",
   "execution_count": 22,
   "metadata": {},
   "outputs": [],
   "source": [
    "a = 9\n",
    "if a==0 : print(\"valid\")"
   ]
  },
  {
   "cell_type": "markdown",
   "metadata": {},
   "source": [
    "Nested If"
   ]
  },
  {
   "cell_type": "code",
   "execution_count": 23,
   "metadata": {},
   "outputs": [
    {
     "name": "stdout",
     "output_type": "stream",
     "text": [
      "oneneuron\n",
      "DSA\n",
      "yes its available under one neuron\n"
     ]
    }
   ],
   "source": [
    "s= input()\n",
    "print(s)\n",
    "course = input()\n",
    "print(course)\n",
    "if s == \"oneneuron\":\n",
    "    if course ==\"DSA\":\n",
    "        print(\"yes its available under one neuron\")\n",
    "    elif course == \"Blockchain\":\n",
    "        print(\"this is not available now\")\n",
    "    else:\n",
    "        print(\"this course is not available, raise your demand\")\n",
    "elif s == \"courserequest\":\n",
    "    print(\"sure, raise a request\")"
   ]
  },
  {
   "cell_type": "markdown",
   "metadata": {},
   "source": [
    "For Loop"
   ]
  },
  {
   "cell_type": "code",
   "execution_count": 24,
   "metadata": {},
   "outputs": [
    {
     "name": "stdout",
     "output_type": "stream",
     "text": [
      "3\n",
      "6\n",
      "7.6\n"
     ]
    }
   ],
   "source": [
    "l = [1,4,5.6]\n",
    "for i in l:\n",
    "    print(i+2)"
   ]
  },
  {
   "cell_type": "code",
   "execution_count": 25,
   "metadata": {},
   "outputs": [
    {
     "data": {
      "text/plain": [
       "[3, 6, 7.6]"
      ]
     },
     "execution_count": 25,
     "metadata": {},
     "output_type": "execute_result"
    }
   ],
   "source": [
    "l = [1,4,5.6]\n",
    "l1 = []\n",
    "for i in l:\n",
    "    l1.append(i+2)\n",
    "\n",
    "l1"
   ]
  },
  {
   "cell_type": "code",
   "execution_count": 40,
   "metadata": {},
   "outputs": [
    {
     "data": {
      "text/plain": [
       "[2, 45, 78, 12]"
      ]
     },
     "execution_count": 40,
     "metadata": {},
     "output_type": "execute_result"
    }
   ],
   "source": [
    "from operator import contains\n",
    "\n",
    "\n",
    "l = [2,45,78,12,\"raj\",6+7J,[56,67,78]]\n",
    "l1 = []\n",
    "for i in l:\n",
    "    if type(i) == int:\n",
    "        l1.append(i)\n",
    "\n",
    "l1"
   ]
  },
  {
   "cell_type": "code",
   "execution_count": 44,
   "metadata": {},
   "outputs": [
    {
     "name": "stdout",
     "output_type": "stream",
     "text": [
      "1\n",
      "2\n",
      "3\n",
      "4\n"
     ]
    }
   ],
   "source": [
    "for i in range(1,5):\n",
    "    print(i)"
   ]
  },
  {
   "cell_type": "code",
   "execution_count": null,
   "metadata": {},
   "outputs": [],
   "source": [
    "l = [2,45,78,12,\"raj\",6+7J,[56,67,78]]\n",
    "# q1. print index of all the Element\n",
    "# q2. extract all the list of char if element is string\n",
    "# q3. return a list after doing a square of all the int element "
   ]
  },
  {
   "cell_type": "code",
   "execution_count": 48,
   "metadata": {},
   "outputs": [
    {
     "name": "stdout",
     "output_type": "stream",
     "text": [
      "0\n",
      "1\n",
      "2\n",
      "3\n",
      "4\n",
      "5\n",
      "6\n"
     ]
    }
   ],
   "source": [
    "# q1. print index of all the Element\n",
    "\n",
    "for i in range(len(l)):\n",
    "    print(i)"
   ]
  },
  {
   "cell_type": "code",
   "execution_count": 49,
   "metadata": {},
   "outputs": [
    {
     "name": "stdout",
     "output_type": "stream",
     "text": [
      "r\n",
      "a\n",
      "j\n"
     ]
    }
   ],
   "source": [
    "# q2. extract all the list of char if element is string\n",
    "for i in l:\n",
    "    if type(i) == str:\n",
    "        for j in i:\n",
    "            print(j)"
   ]
  },
  {
   "cell_type": "code",
   "execution_count": 51,
   "metadata": {},
   "outputs": [
    {
     "data": {
      "text/plain": [
       "[4, 2025, 6084, 144, 'raj', (6+7j), [56, 67, 78]]"
      ]
     },
     "execution_count": 51,
     "metadata": {},
     "output_type": "execute_result"
    }
   ],
   "source": [
    "# q3. return a list after doing a square of all the int element \n",
    "for i in range(len(l)):\n",
    "    if type(l[i]) == int:\n",
    "        l[i] = l[i]*l[i]\n",
    "l"
   ]
  },
  {
   "cell_type": "code",
   "execution_count": 52,
   "metadata": {},
   "outputs": [
    {
     "name": "stdout",
     "output_type": "stream",
     "text": [
      "(0, 4)\n",
      "(1, 2025)\n",
      "(2, 6084)\n",
      "(3, 144)\n",
      "(4, 'raj')\n",
      "(5, (6+7j))\n",
      "(6, [56, 67, 78])\n"
     ]
    }
   ],
   "source": [
    "for i in enumerate(l):\n",
    "    print(i)"
   ]
  },
  {
   "cell_type": "code",
   "execution_count": 54,
   "metadata": {},
   "outputs": [
    {
     "name": "stdout",
     "output_type": "stream",
     "text": [
      "0 4\n",
      "1 2025\n",
      "2 6084\n",
      "3 144\n",
      "4 raj\n",
      "5 (6+7j)\n",
      "6 [56, 67, 78]\n"
     ]
    }
   ],
   "source": [
    "for i,j in enumerate(l):\n",
    "    print(i,j)"
   ]
  },
  {
   "cell_type": "code",
   "execution_count": null,
   "metadata": {},
   "outputs": [],
   "source": []
  }
 ],
 "metadata": {
  "kernelspec": {
   "display_name": "Python 3.9.12 ('base')",
   "language": "python",
   "name": "python3"
  },
  "language_info": {
   "codemirror_mode": {
    "name": "ipython",
    "version": 3
   },
   "file_extension": ".py",
   "mimetype": "text/x-python",
   "name": "python",
   "nbconvert_exporter": "python",
   "pygments_lexer": "ipython3",
   "version": "3.9.12"
  },
  "orig_nbformat": 4,
  "vscode": {
   "interpreter": {
    "hash": "3cb5cc83663eb0f118ea0d7b2a64b5cce4b6769168447f1c0b15c6fe951c9db1"
   }
  }
 },
 "nbformat": 4,
 "nbformat_minor": 2
}
