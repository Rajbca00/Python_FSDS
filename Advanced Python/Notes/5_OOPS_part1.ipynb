{
 "cells": [
  {
   "cell_type": "code",
   "execution_count": 11,
   "metadata": {},
   "outputs": [],
   "source": [
    "class Car:\n",
    "   def __init__(self,body_type,engine,fuel_type):\n",
    "      self.body_type = body_type\n",
    "      self.engine = engine\n",
    "      self.fuel_type = fuel_type\n",
    "\n",
    "   def test(self):\n",
    "      print(\"this is my first method in my car class\")\n",
    "      "
   ]
  },
  {
   "cell_type": "code",
   "execution_count": 12,
   "metadata": {},
   "outputs": [],
   "source": [
    "car = Car(\"asd\",\"asd\",\"asd\")"
   ]
  },
  {
   "cell_type": "code",
   "execution_count": 13,
   "metadata": {},
   "outputs": [
    {
     "data": {
      "text/plain": [
       "'asd'"
      ]
     },
     "execution_count": 13,
     "metadata": {},
     "output_type": "execute_result"
    }
   ],
   "source": [
    "car.body_type"
   ]
  },
  {
   "cell_type": "code",
   "execution_count": 14,
   "metadata": {},
   "outputs": [
    {
     "ename": "TypeError",
     "evalue": "Car.__init__() missing 3 required positional arguments: 'body_type', 'engine', and 'fuel_type'",
     "output_type": "error",
     "traceback": [
      "\u001b[1;31m---------------------------------------------------------------------------\u001b[0m",
      "\u001b[1;31mTypeError\u001b[0m                                 Traceback (most recent call last)",
      "Cell \u001b[1;32mIn [14], line 1\u001b[0m\n\u001b[1;32m----> 1\u001b[0m fortuner \u001b[39m=\u001b[39m Car()\n",
      "\u001b[1;31mTypeError\u001b[0m: Car.__init__() missing 3 required positional arguments: 'body_type', 'engine', and 'fuel_type'"
     ]
    }
   ],
   "source": [
    "fortuner = Car()"
   ]
  },
  {
   "cell_type": "code",
   "execution_count": 19,
   "metadata": {},
   "outputs": [],
   "source": [
    "fortuner = Car(\"suv\",\"bs4\",\"petrol\")"
   ]
  },
  {
   "cell_type": "code",
   "execution_count": 20,
   "metadata": {},
   "outputs": [
    {
     "name": "stdout",
     "output_type": "stream",
     "text": [
      "this is my first method in my car class\n"
     ]
    }
   ],
   "source": [
    "fortuner.test()"
   ]
  },
  {
   "cell_type": "code",
   "execution_count": 22,
   "metadata": {},
   "outputs": [],
   "source": [
    "nexon = Car(\"suv\",\"bs6\",\"petrol\")"
   ]
  },
  {
   "cell_type": "code",
   "execution_count": 24,
   "metadata": {},
   "outputs": [
    {
     "data": {
      "text/plain": [
       "'suv'"
      ]
     },
     "execution_count": 24,
     "metadata": {},
     "output_type": "execute_result"
    }
   ],
   "source": [
    "fortuner.body_type"
   ]
  },
  {
   "cell_type": "code",
   "execution_count": 25,
   "metadata": {},
   "outputs": [],
   "source": [
    "class list_parser:\n",
    "    def __init__(self,l):\n",
    "        self.l=l\n",
    "\n",
    "    def parser(self):\n",
    "        if type(self.l) ==list:\n",
    "            for i in self.l:\n",
    "                print(i)\n",
    "\n",
    "    def reverse_list(self):\n",
    "        if type(self.l) == list:\n",
    "            return self.l[::-1]"
   ]
  },
  {
   "cell_type": "code",
   "execution_count": 26,
   "metadata": {},
   "outputs": [
    {
     "name": "stdout",
     "output_type": "stream",
     "text": [
      "2\n",
      "3\n",
      "4\n",
      "5\n",
      "56\n",
      "6\n"
     ]
    }
   ],
   "source": [
    "c = list_parser([2,3,4,5,56,6])\n",
    "c.parser()"
   ]
  },
  {
   "cell_type": "code",
   "execution_count": 27,
   "metadata": {},
   "outputs": [
    {
     "data": {
      "text/plain": [
       "[6, 56, 5, 4, 3, 2]"
      ]
     },
     "execution_count": 27,
     "metadata": {},
     "output_type": "execute_result"
    }
   ],
   "source": [
    "c.reverse_list()"
   ]
  },
  {
   "cell_type": "markdown",
   "metadata": {},
   "source": [
    "## create a class for dictionary parsing ##\n",
    "\n",
    "1. write a function to give all the keys\n",
    "2. write a function to give all the values\n",
    "3. write a function to throw an exception in case of input is not dictionary\n",
    "4. write a function to take user input and then parse a key and value out of dictionary\n",
    "5. write a function to insert new key value pair into dictionary\n",
    "\n"
   ]
  },
  {
   "cell_type": "code",
   "execution_count": 51,
   "metadata": {},
   "outputs": [],
   "source": [
    "class dictionary:\n",
    "    def __init__(self,d):\n",
    "        self.d = d\n",
    "\n",
    "    def get_keys(self):\n",
    "        if self.validate():\n",
    "            return self.d.keys()\n",
    "\n",
    "    def get_values(self):\n",
    "        if self.validate():\n",
    "            return self.d.values()\n",
    "\n",
    "    def validate(self):\n",
    "        if type(self.d) == dict:\n",
    "            return True\n",
    "        else:\n",
    "            raise Exception(\"Input is not an dictionary type\") \n",
    "\n",
    "    def add_pair(self):\n",
    "        if self.validate():\n",
    "            key = input(\"Please enter key : \")\n",
    "            value = input(\"Please enter value : \")\n",
    "            self.d[key] = value\n",
    "            return self.d\n",
    "\n",
    "    def insert_pair(self,key,value):\n",
    "        if self.validate():\n",
    "            self.d[key] = value\n",
    "            return self.d\n",
    "\n",
    "    def get_value(self):\n",
    "        if self.validate():\n",
    "            key = input(\"Please enter key : \")\n",
    "            if key.isnumeric():\n",
    "                key = int(key)\n",
    "            return self.d[key]"
   ]
  },
  {
   "cell_type": "code",
   "execution_count": 52,
   "metadata": {},
   "outputs": [],
   "source": [
    "d = {1:\"a\",2:\"b\",3:\"c\"}\n",
    "d1 = dictionary(d)"
   ]
  },
  {
   "cell_type": "code",
   "execution_count": 53,
   "metadata": {},
   "outputs": [
    {
     "data": {
      "text/plain": [
       "True"
      ]
     },
     "execution_count": 53,
     "metadata": {},
     "output_type": "execute_result"
    }
   ],
   "source": [
    "d1.validate()"
   ]
  },
  {
   "cell_type": "code",
   "execution_count": 54,
   "metadata": {},
   "outputs": [
    {
     "data": {
      "text/plain": [
       "dict_keys([1, 2, 3])"
      ]
     },
     "execution_count": 54,
     "metadata": {},
     "output_type": "execute_result"
    }
   ],
   "source": [
    "d1.get_keys()"
   ]
  },
  {
   "cell_type": "code",
   "execution_count": 55,
   "metadata": {},
   "outputs": [
    {
     "data": {
      "text/plain": [
       "dict_values(['a', 'b', 'c'])"
      ]
     },
     "execution_count": 55,
     "metadata": {},
     "output_type": "execute_result"
    }
   ],
   "source": [
    "d1.get_values()"
   ]
  },
  {
   "cell_type": "code",
   "execution_count": 56,
   "metadata": {},
   "outputs": [
    {
     "data": {
      "text/plain": [
       "'b'"
      ]
     },
     "execution_count": 56,
     "metadata": {},
     "output_type": "execute_result"
    }
   ],
   "source": [
    "d1.get_value()"
   ]
  },
  {
   "cell_type": "code",
   "execution_count": 57,
   "metadata": {},
   "outputs": [
    {
     "data": {
      "text/plain": [
       "{1: 'a', 2: 'b', 3: 'c', '8': 'd'}"
      ]
     },
     "execution_count": 57,
     "metadata": {},
     "output_type": "execute_result"
    }
   ],
   "source": [
    "d1.add_pair()"
   ]
  },
  {
   "cell_type": "code",
   "execution_count": 58,
   "metadata": {},
   "outputs": [
    {
     "data": {
      "text/plain": [
       "{1: 'a', 2: 'b', 3: 'c', '8': 'd', 5: 'e'}"
      ]
     },
     "execution_count": 58,
     "metadata": {},
     "output_type": "execute_result"
    }
   ],
   "source": [
    "d1.insert_pair(5,'e')"
   ]
  },
  {
   "cell_type": "markdown",
   "metadata": {},
   "source": [
    "q1. Create your own package for all the list function <br/>\n",
    "q2. Create your own package for all the tuple function<br/>\n",
    "q3. Create your own package for all the dictionary function<br/>\n",
    "q4. Create your own package for all the set function"
   ]
  },
  {
   "cell_type": "code",
   "execution_count": null,
   "metadata": {},
   "outputs": [],
   "source": []
  }
 ],
 "metadata": {
  "kernelspec": {
   "display_name": "Python 3.10.4 ('learn')",
   "language": "python",
   "name": "python3"
  },
  "language_info": {
   "codemirror_mode": {
    "name": "ipython",
    "version": 3
   },
   "file_extension": ".py",
   "mimetype": "text/x-python",
   "name": "python",
   "nbconvert_exporter": "python",
   "pygments_lexer": "ipython3",
   "version": "3.10.4"
  },
  "orig_nbformat": 4,
  "vscode": {
   "interpreter": {
    "hash": "0750a4709d810ae3af353e03b92d85dbaf7311770814754218959397e9f0a4b4"
   }
  }
 },
 "nbformat": 4,
 "nbformat_minor": 2
}
