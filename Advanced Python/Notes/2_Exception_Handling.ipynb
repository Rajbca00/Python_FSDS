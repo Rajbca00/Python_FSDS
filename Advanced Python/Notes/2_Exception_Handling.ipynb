{
 "cells": [
  {
   "cell_type": "code",
   "execution_count": 1,
   "metadata": {},
   "outputs": [
    {
     "data": {
      "text/plain": [
       "0.5"
      ]
     },
     "execution_count": 1,
     "metadata": {},
     "output_type": "execute_result"
    }
   ],
   "source": [
    "a= 5\n",
    "a/10"
   ]
  },
  {
   "cell_type": "code",
   "execution_count": 2,
   "metadata": {},
   "outputs": [
    {
     "ename": "ZeroDivisionError",
     "evalue": "division by zero",
     "output_type": "error",
     "traceback": [
      "\u001b[1;31m---------------------------------------------------------------------------\u001b[0m",
      "\u001b[1;31mZeroDivisionError\u001b[0m                         Traceback (most recent call last)",
      "\u001b[1;32mh:\\Technical\\Full Stack Data Science\\Python\\Advanced Python\\Notes\\2_Exception_Handling.ipynb Cell 2\u001b[0m in \u001b[0;36m<cell line: 1>\u001b[1;34m()\u001b[0m\n\u001b[1;32m----> <a href='vscode-notebook-cell:/h%3A/Technical/Full%20Stack%20Data%20Science/Python/Advanced%20Python/Notes/2_Exception_Handling.ipynb#W1sZmlsZQ%3D%3D?line=0'>1</a>\u001b[0m a\u001b[39m/\u001b[39;49m\u001b[39m0\u001b[39;49m\n",
      "\u001b[1;31mZeroDivisionError\u001b[0m: division by zero"
     ]
    }
   ],
   "source": [
    "a/0"
   ]
  },
  {
   "cell_type": "code",
   "execution_count": 4,
   "metadata": {},
   "outputs": [
    {
     "name": "stdout",
     "output_type": "stream",
     "text": [
      "0\n"
     ]
    },
    {
     "ename": "ZeroDivisionError",
     "evalue": "division by zero",
     "output_type": "error",
     "traceback": [
      "\u001b[1;31m---------------------------------------------------------------------------\u001b[0m",
      "\u001b[1;31mZeroDivisionError\u001b[0m                         Traceback (most recent call last)",
      "\u001b[1;32mh:\\Technical\\Full Stack Data Science\\Python\\Advanced Python\\Notes\\2_Exception_Handling.ipynb Cell 3\u001b[0m in \u001b[0;36m<cell line: 4>\u001b[1;34m()\u001b[0m\n\u001b[0;32m      <a href='vscode-notebook-cell:/h%3A/Technical/Full%20Stack%20Data%20Science/Python/Advanced%20Python/Notes/2_Exception_Handling.ipynb#W2sZmlsZQ%3D%3D?line=1'>2</a>\u001b[0m b \u001b[39m=\u001b[39m \u001b[39mint\u001b[39m(\u001b[39minput\u001b[39m())\n\u001b[0;32m      <a href='vscode-notebook-cell:/h%3A/Technical/Full%20Stack%20Data%20Science/Python/Advanced%20Python/Notes/2_Exception_Handling.ipynb#W2sZmlsZQ%3D%3D?line=2'>3</a>\u001b[0m \u001b[39mprint\u001b[39m(b)\n\u001b[1;32m----> <a href='vscode-notebook-cell:/h%3A/Technical/Full%20Stack%20Data%20Science/Python/Advanced%20Python/Notes/2_Exception_Handling.ipynb#W2sZmlsZQ%3D%3D?line=3'>4</a>\u001b[0m \u001b[39mprint\u001b[39m(a\u001b[39m/\u001b[39;49mb)\n",
      "\u001b[1;31mZeroDivisionError\u001b[0m: division by zero"
     ]
    }
   ],
   "source": [
    "a = 5\n",
    "b = int(input())\n",
    "print(b)\n",
    "print(a/b)"
   ]
  },
  {
   "cell_type": "code",
   "execution_count": 5,
   "metadata": {},
   "outputs": [
    {
     "ename": "FileNotFoundError",
     "evalue": "[Errno 2] No such file or directory: 'test10.txt'",
     "output_type": "error",
     "traceback": [
      "\u001b[1;31m---------------------------------------------------------------------------\u001b[0m",
      "\u001b[1;31mFileNotFoundError\u001b[0m                         Traceback (most recent call last)",
      "\u001b[1;32mh:\\Technical\\Full Stack Data Science\\Python\\Advanced Python\\Notes\\2_Exception_Handling.ipynb Cell 4\u001b[0m in \u001b[0;36m<cell line: 1>\u001b[1;34m()\u001b[0m\n\u001b[1;32m----> <a href='vscode-notebook-cell:/h%3A/Technical/Full%20Stack%20Data%20Science/Python/Advanced%20Python/Notes/2_Exception_Handling.ipynb#W3sZmlsZQ%3D%3D?line=0'>1</a>\u001b[0m f \u001b[39m=\u001b[39m \u001b[39mopen\u001b[39;49m(\u001b[39m\"\u001b[39;49m\u001b[39mtest10.txt\u001b[39;49m\u001b[39m\"\u001b[39;49m,\u001b[39m\"\u001b[39;49m\u001b[39mr\u001b[39;49m\u001b[39m\"\u001b[39;49m)\n\u001b[0;32m      <a href='vscode-notebook-cell:/h%3A/Technical/Full%20Stack%20Data%20Science/Python/Advanced%20Python/Notes/2_Exception_Handling.ipynb#W3sZmlsZQ%3D%3D?line=1'>2</a>\u001b[0m f\u001b[39m.\u001b[39mwrite(\u001b[39m\"\u001b[39m\u001b[39mmy message for the file\u001b[39m\u001b[39m\"\u001b[39m)\n",
      "\u001b[1;31mFileNotFoundError\u001b[0m: [Errno 2] No such file or directory: 'test10.txt'"
     ]
    }
   ],
   "source": [
    "f = open(\"test10.txt\",\"r\")\n",
    "f.write(\"my message for the file\")"
   ]
  },
  {
   "cell_type": "code",
   "execution_count": 17,
   "metadata": {},
   "outputs": [
    {
     "name": "stdout",
     "output_type": "stream",
     "text": [
      "File not found\n"
     ]
    }
   ],
   "source": [
    "try:\n",
    "    f = open(\"test10.txt\",\"r\")\n",
    "    f.write(\"my message for the file\")\n",
    "except FileNotFoundError:\n",
    "    print(\"File not found\")\n",
    "except Exception as e:\n",
    "    print(\"Unknown Exception\",e)"
   ]
  },
  {
   "cell_type": "code",
   "execution_count": 21,
   "metadata": {},
   "outputs": [
    {
     "name": "stdout",
     "output_type": "stream",
     "text": [
      "4\n",
      "5\n",
      "6\n",
      "7\n",
      "8\n",
      "list index out of range\n"
     ]
    }
   ],
   "source": [
    "l = [4,5,6,7,8]\n",
    "try:\n",
    "    for i in range(len(l)+1):\n",
    "        print(l[i])\n",
    "except Exception as e:\n",
    "    print(e)"
   ]
  },
  {
   "cell_type": "code",
   "execution_count": 22,
   "metadata": {},
   "outputs": [
    {
     "name": "stdout",
     "output_type": "stream",
     "text": [
      "invalid literal for int() with base 10: 'asdasd'\n"
     ]
    }
   ],
   "source": [
    "try:\n",
    "    a = int(input())\n",
    "    b = int(input())\n",
    "except Exception as e:\n",
    "    print(e)"
   ]
  },
  {
   "cell_type": "code",
   "execution_count": 23,
   "metadata": {},
   "outputs": [
    {
     "ename": "SyntaxError",
     "evalue": "unexpected EOF while parsing (2484370480.py, line 1)",
     "output_type": "error",
     "traceback": [
      "\u001b[1;36m  Input \u001b[1;32mIn [23]\u001b[1;36m\u001b[0m\n\u001b[1;33m    print(\"dasdas\"\u001b[0m\n\u001b[1;37m                  ^\u001b[0m\n\u001b[1;31mSyntaxError\u001b[0m\u001b[1;31m:\u001b[0m unexpected EOF while parsing\n"
     ]
    }
   ],
   "source": [
    "print(\"dasdas\""
   ]
  },
  {
   "cell_type": "code",
   "execution_count": 25,
   "metadata": {},
   "outputs": [
    {
     "name": "stdout",
     "output_type": "stream",
     "text": [
      "This is my handler [Errno 2] No such file or directory: 'test1'\n"
     ]
    }
   ],
   "source": [
    "try:\n",
    "    f = open(\"test1\",\"r\")\n",
    "    f.write(\"this is my code with exceptional handling\")\n",
    "    print(\"this is my code after write operation\")\n",
    "except Exception as e:\n",
    "    print(\"This is my handler\",e)"
   ]
  },
  {
   "cell_type": "code",
   "execution_count": 28,
   "metadata": {},
   "outputs": [
    {
     "name": "stdout",
     "output_type": "stream",
     "text": [
      "invalid literal for int() with base 10: 'asdasd'\n"
     ]
    }
   ],
   "source": [
    "try:\n",
    "    d = {\"key1\":\"rajesh\",\"key2\":[1,2,3,4,5],\"key3\":(4,5,6,7)}\n",
    "    d[\"key4\"] = int(input())\n",
    "    print(d)\n",
    "except Exception as e:\n",
    "    print(e)"
   ]
  },
  {
   "cell_type": "code",
   "execution_count": 30,
   "metadata": {},
   "outputs": [
    {
     "name": "stdout",
     "output_type": "stream",
     "text": [
      "invalid literal for int() with base 10: 'asdasd'\n"
     ]
    }
   ],
   "source": [
    "try:\n",
    "    d = {\"key1\":\"rajesh\",\"key2\":[1,2,3,4,5],\"key3\":(4,5,6,7)}\n",
    "    d[\"key4\"] = int(input())\n",
    "    print(d)\n",
    "except ValueError as ve:\n",
    "    print(ve)"
   ]
  },
  {
   "cell_type": "code",
   "execution_count": 33,
   "metadata": {},
   "outputs": [
    {
     "name": "stdout",
     "output_type": "stream",
     "text": [
      "{'key1': 'rajesh', 'key2': [1, 2, 3, 4, 5], 'key3': (4, 5, 6, 7), 'key4': 23}\n"
     ]
    },
    {
     "ename": "FileNotFoundError",
     "evalue": "[Errno 2] No such file or directory: 'test2'",
     "output_type": "error",
     "traceback": [
      "\u001b[1;31m---------------------------------------------------------------------------\u001b[0m",
      "\u001b[1;31mFileNotFoundError\u001b[0m                         Traceback (most recent call last)",
      "\u001b[1;32mh:\\Technical\\Full Stack Data Science\\Python\\Advanced Python\\Notes\\2_Exception_Handling.ipynb Cell 12\u001b[0m in \u001b[0;36m<cell line: 1>\u001b[1;34m()\u001b[0m\n\u001b[0;32m      <a href='vscode-notebook-cell:/h%3A/Technical/Full%20Stack%20Data%20Science/Python/Advanced%20Python/Notes/2_Exception_Handling.ipynb#X14sZmlsZQ%3D%3D?line=2'>3</a>\u001b[0m     d[\u001b[39m\"\u001b[39m\u001b[39mkey4\u001b[39m\u001b[39m\"\u001b[39m] \u001b[39m=\u001b[39m \u001b[39mint\u001b[39m(\u001b[39minput\u001b[39m())\n\u001b[0;32m      <a href='vscode-notebook-cell:/h%3A/Technical/Full%20Stack%20Data%20Science/Python/Advanced%20Python/Notes/2_Exception_Handling.ipynb#X14sZmlsZQ%3D%3D?line=3'>4</a>\u001b[0m     \u001b[39mprint\u001b[39m(d)\n\u001b[1;32m----> <a href='vscode-notebook-cell:/h%3A/Technical/Full%20Stack%20Data%20Science/Python/Advanced%20Python/Notes/2_Exception_Handling.ipynb#X14sZmlsZQ%3D%3D?line=4'>5</a>\u001b[0m     f \u001b[39m=\u001b[39m \u001b[39mopen\u001b[39;49m(\u001b[39m\"\u001b[39;49m\u001b[39mtest2\u001b[39;49m\u001b[39m\"\u001b[39;49m,\u001b[39m\"\u001b[39;49m\u001b[39mr\u001b[39;49m\u001b[39m\"\u001b[39;49m)\n\u001b[0;32m      <a href='vscode-notebook-cell:/h%3A/Technical/Full%20Stack%20Data%20Science/Python/Advanced%20Python/Notes/2_Exception_Handling.ipynb#X14sZmlsZQ%3D%3D?line=5'>6</a>\u001b[0m \u001b[39mexcept\u001b[39;00m \u001b[39mValueError\u001b[39;00m \u001b[39mas\u001b[39;00m e:\n\u001b[0;32m      <a href='vscode-notebook-cell:/h%3A/Technical/Full%20Stack%20Data%20Science/Python/Advanced%20Python/Notes/2_Exception_Handling.ipynb#X14sZmlsZQ%3D%3D?line=6'>7</a>\u001b[0m     \u001b[39mprint\u001b[39m(e)\n",
      "\u001b[1;31mFileNotFoundError\u001b[0m: [Errno 2] No such file or directory: 'test2'"
     ]
    }
   ],
   "source": [
    "try:\n",
    "    d = {\"key1\":\"rajesh\",\"key2\":[1,2,3,4,5],\"key3\":(4,5,6,7)}\n",
    "    d[\"key4\"] = int(input())\n",
    "    print(d)\n",
    "    f = open(\"test2\",\"r\")\n",
    "except ValueError as e:\n",
    "    print(e)"
   ]
  },
  {
   "cell_type": "code",
   "execution_count": 34,
   "metadata": {},
   "outputs": [
    {
     "name": "stdout",
     "output_type": "stream",
     "text": [
      "{'key1': 'rajesh', 'key2': [1, 2, 3, 4, 5], 'key3': (4, 5, 6, 7), 'key4': 12}\n",
      "[Errno 2] No such file or directory: 'test2'\n"
     ]
    }
   ],
   "source": [
    "try:\n",
    "    d = {\"key1\":\"rajesh\",\"key2\":[1,2,3,4,5],\"key3\":(4,5,6,7)}\n",
    "    d[\"key4\"] = int(input())\n",
    "    print(d)\n",
    "    f = open(\"test2\",\"r\")\n",
    "except ValueError as ve:\n",
    "    print(ve)\n",
    "except FileNotFoundError as fnfe:\n",
    "    print(fnfe)"
   ]
  },
  {
   "cell_type": "code",
   "execution_count": 35,
   "metadata": {},
   "outputs": [
    {
     "name": "stdout",
     "output_type": "stream",
     "text": [
      "{'key1': 'rajesh', 'key2': [1, 2, 3, 4, 5], 'key3': (4, 5, 6, 7), 'key4': 235}\n",
      "[Errno 2] No such file or directory: 'test2'\n"
     ]
    }
   ],
   "source": [
    "try:\n",
    "    d = {\"key1\":\"rajesh\",\"key2\":[1,2,3,4,5],\"key3\":(4,5,6,7)}\n",
    "    d[\"key4\"] = int(input())\n",
    "    print(d)\n",
    "    f = open(\"test2\",\"r\")\n",
    "except Exception as e:\n",
    "    print(e)"
   ]
  },
  {
   "cell_type": "code",
   "execution_count": 38,
   "metadata": {},
   "outputs": [
    {
     "name": "stdout",
     "output_type": "stream",
     "text": [
      "{'key1': 'rajesh', 'key2': [1, 2, 3, 4, 5], 'key3': (4, 5, 6, 7), 'key4': 25}\n",
      "From Exception super class [Errno 2] No such file or directory: 'test2'\n"
     ]
    }
   ],
   "source": [
    "try:\n",
    "    d = {\"key1\":\"rajesh\",\"key2\":[1,2,3,4,5],\"key3\":(4,5,6,7)}\n",
    "    d[\"key4\"] = int(input())\n",
    "    print(d)\n",
    "    f = open(\"test2\",\"r\")\n",
    "except Exception as e:\n",
    "    print(\"From Exception super class\",e)\n",
    "except ValueError as ve:\n",
    "    print(ve)\n",
    "except FileNotFoundError as fnfe:\n",
    "    print(fnfe)"
   ]
  },
  {
   "cell_type": "code",
   "execution_count": 39,
   "metadata": {},
   "outputs": [
    {
     "name": "stdout",
     "output_type": "stream",
     "text": [
      "invalid literal for int() with base 10: 'asd'\n"
     ]
    }
   ],
   "source": [
    "try:\n",
    "    d = {\"key1\":\"rajesh\",\"key2\":[1,2,3,4,5],\"key3\":(4,5,6,7)}\n",
    "    d[\"key4\"] = int(input())\n",
    "    print(d)\n",
    "    f = open(\"test2\",\"r\")\n",
    "except ValueError as ve:\n",
    "    print(ve)\n",
    "except FileNotFoundError as fnfe:\n",
    "    print(fnfe)\n",
    "except Exception as e:\n",
    "    print(\"From Exception super class\",e)"
   ]
  },
  {
   "cell_type": "code",
   "execution_count": 42,
   "metadata": {},
   "outputs": [
    {
     "name": "stdout",
     "output_type": "stream",
     "text": [
      "this will handle an error\n"
     ]
    }
   ],
   "source": [
    "try:\n",
    "    f = open(\"test1.txt\",\"r\")\n",
    "    f.write(\"this is my code in try bloack\")\n",
    "except Exception as e:\n",
    "    print(\"this will handle an error\")\n",
    "else:\n",
    "    print(\"this will execute once my try block will be executed successfully\")\n",
    "    f.close()"
   ]
  },
  {
   "cell_type": "code",
   "execution_count": 45,
   "metadata": {},
   "outputs": [],
   "source": [
    "f.close()"
   ]
  },
  {
   "cell_type": "code",
   "execution_count": 44,
   "metadata": {},
   "outputs": [
    {
     "name": "stdout",
     "output_type": "stream",
     "text": [
      "do this for sure\n"
     ]
    }
   ],
   "source": [
    "try:\n",
    "    f = open(\"test1.txt\",\"r\")\n",
    "except Exception as e:\n",
    "    print(\"sadasjdh\",e)\n",
    "finally:\n",
    "    print(\"do this for sure\")"
   ]
  },
  {
   "cell_type": "code",
   "execution_count": 46,
   "metadata": {},
   "outputs": [],
   "source": [
    "def get_int():\n",
    "    try:\n",
    "        a = int(input())\n",
    "        return a\n",
    "    except Exception as e:\n",
    "        print(\"this is my input error\",e)"
   ]
  },
  {
   "cell_type": "code",
   "execution_count": 47,
   "metadata": {},
   "outputs": [
    {
     "name": "stdout",
     "output_type": "stream",
     "text": [
      "this is my input error invalid literal for int() with base 10: 'sda'\n"
     ]
    }
   ],
   "source": [
    "get_int()"
   ]
  },
  {
   "cell_type": "code",
   "execution_count": 48,
   "metadata": {},
   "outputs": [
    {
     "data": {
      "text/plain": [
       "123123"
      ]
     },
     "execution_count": 48,
     "metadata": {},
     "output_type": "execute_result"
    }
   ],
   "source": [
    "get_int()"
   ]
  },
  {
   "cell_type": "code",
   "execution_count": 52,
   "metadata": {},
   "outputs": [],
   "source": [
    "def get_int():\n",
    "    while True:\n",
    "        try:\n",
    "            a = int(input('Enter integer value: '))\n",
    "            return a\n",
    "        except Exception as a:\n",
    "            print(\"Invalid input. Please Enter integer value: \")           \n"
   ]
  },
  {
   "cell_type": "code",
   "execution_count": 53,
   "metadata": {},
   "outputs": [
    {
     "data": {
      "text/plain": [
       "213"
      ]
     },
     "execution_count": 53,
     "metadata": {},
     "output_type": "execute_result"
    }
   ],
   "source": [
    "get_int()"
   ]
  },
  {
   "cell_type": "code",
   "execution_count": 54,
   "metadata": {},
   "outputs": [
    {
     "name": "stdout",
     "output_type": "stream",
     "text": [
      "Invalid input. Please Enter integer value: \n",
      "Invalid input. Please Enter integer value: \n",
      "Invalid input. Please Enter integer value: \n"
     ]
    },
    {
     "data": {
      "text/plain": [
       "12"
      ]
     },
     "execution_count": 54,
     "metadata": {},
     "output_type": "execute_result"
    }
   ],
   "source": [
    "get_int()"
   ]
  },
  {
   "cell_type": "code",
   "execution_count": null,
   "metadata": {},
   "outputs": [],
   "source": []
  }
 ],
 "metadata": {
  "kernelspec": {
   "display_name": "Python 3.9.12 ('base')",
   "language": "python",
   "name": "python3"
  },
  "language_info": {
   "codemirror_mode": {
    "name": "ipython",
    "version": 3
   },
   "file_extension": ".py",
   "mimetype": "text/x-python",
   "name": "python",
   "nbconvert_exporter": "python",
   "pygments_lexer": "ipython3",
   "version": "3.9.12"
  },
  "orig_nbformat": 4,
  "vscode": {
   "interpreter": {
    "hash": "3cb5cc83663eb0f118ea0d7b2a64b5cce4b6769168447f1c0b15c6fe951c9db1"
   }
  }
 },
 "nbformat": 4,
 "nbformat_minor": 2
}
