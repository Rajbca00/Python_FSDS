{
 "cells": [
  {
   "cell_type": "code",
   "execution_count": 2,
   "metadata": {},
   "outputs": [],
   "source": [
    "def test(a,b):\n",
    "    return a+b"
   ]
  },
  {
   "cell_type": "code",
   "execution_count": 3,
   "metadata": {},
   "outputs": [
    {
     "data": {
      "text/plain": [
       "7"
      ]
     },
     "execution_count": 3,
     "metadata": {},
     "output_type": "execute_result"
    }
   ],
   "source": [
    "test(3,4)"
   ]
  },
  {
   "cell_type": "code",
   "execution_count": 4,
   "metadata": {},
   "outputs": [
    {
     "data": {
      "text/plain": [
       "'rajesh'"
      ]
     },
     "execution_count": 4,
     "metadata": {},
     "output_type": "execute_result"
    }
   ],
   "source": [
    "test(\"raj\",\"esh\")"
   ]
  },
  {
   "cell_type": "code",
   "execution_count": 5,
   "metadata": {},
   "outputs": [],
   "source": [
    "class insta:\n",
    "    def share_stories(self):\n",
    "        print(\"this will share my insta story\")\n",
    "\n",
    "class facebook:\n",
    "    def share_stories(self):\n",
    "        print(\"this will share my fb stories\")"
   ]
  },
  {
   "cell_type": "code",
   "execution_count": 6,
   "metadata": {},
   "outputs": [],
   "source": [
    "def sharestories(obj):\n",
    "    obj.share_stories()"
   ]
  },
  {
   "cell_type": "code",
   "execution_count": 7,
   "metadata": {},
   "outputs": [],
   "source": [
    "i = insta()\n",
    "f = facebook()"
   ]
  },
  {
   "cell_type": "code",
   "execution_count": 8,
   "metadata": {},
   "outputs": [
    {
     "name": "stdout",
     "output_type": "stream",
     "text": [
      "this will share my insta story\n"
     ]
    }
   ],
   "source": [
    "sharestories(i)"
   ]
  },
  {
   "cell_type": "code",
   "execution_count": 9,
   "metadata": {},
   "outputs": [
    {
     "name": "stdout",
     "output_type": "stream",
     "text": [
      "this will share my fb stories\n"
     ]
    }
   ],
   "source": [
    "sharestories(f)"
   ]
  },
  {
   "cell_type": "code",
   "execution_count": 10,
   "metadata": {},
   "outputs": [],
   "source": [
    "#with inheritance"
   ]
  },
  {
   "cell_type": "code",
   "execution_count": 11,
   "metadata": {},
   "outputs": [],
   "source": [
    "class socialmedia:\n",
    "    def share_stories(self):\n",
    "        print(\"share stories\")\n",
    "\n",
    "    def upload_pic(self):\n",
    "        print(\"this will help you to upload pic on social media\")\n",
    "\n",
    "class facebook(socialmedia): \n",
    "    def share_stories(self):\n",
    "        print(\"sharing story from facebook\")\n",
    "\n",
    "class insta(socialmedia):\n",
    "    def share_stories(self):\n",
    "        print(\"sharing story from insta\")"
   ]
  },
  {
   "cell_type": "code",
   "execution_count": 12,
   "metadata": {},
   "outputs": [],
   "source": [
    "f = facebook()\n",
    "i = insta()"
   ]
  },
  {
   "cell_type": "code",
   "execution_count": 13,
   "metadata": {},
   "outputs": [
    {
     "name": "stdout",
     "output_type": "stream",
     "text": [
      "sharing story from facebook\n"
     ]
    }
   ],
   "source": [
    "f.share_stories()"
   ]
  },
  {
   "cell_type": "code",
   "execution_count": 14,
   "metadata": {},
   "outputs": [
    {
     "name": "stdout",
     "output_type": "stream",
     "text": [
      "sharing story from insta\n"
     ]
    }
   ],
   "source": [
    "i.share_stories()"
   ]
  },
  {
   "cell_type": "code",
   "execution_count": 15,
   "metadata": {},
   "outputs": [
    {
     "name": "stdout",
     "output_type": "stream",
     "text": [
      "this will help you to upload pic on social media\n"
     ]
    }
   ],
   "source": [
    "f.upload_pic()"
   ]
  },
  {
   "cell_type": "code",
   "execution_count": 30,
   "metadata": {},
   "outputs": [],
   "source": [
    "class test(Exception):\n",
    "    def __init__(self, message):\n",
    "        self.message = message\n",
    "\n",
    "    #def __str__(self):\n",
    "     #   return \"custome message\""
   ]
  },
  {
   "cell_type": "code",
   "execution_count": 31,
   "metadata": {},
   "outputs": [
    {
     "name": "stdout",
     "output_type": "stream",
     "text": [
      "my custom exception class\n"
     ]
    }
   ],
   "source": [
    "try:\n",
    "    raise(test(\"my custom exception class\"))\n",
    "except test as t:\n",
    "    print(t)"
   ]
  },
  {
   "cell_type": "markdown",
   "metadata": {},
   "source": [
    "## Q1. Create your own class to achive multiple, multilevel inheritance ##"
   ]
  },
  {
   "cell_type": "code",
   "execution_count": 34,
   "metadata": {},
   "outputs": [
    {
     "name": "stdout",
     "output_type": "stream",
     "text": [
      "rajesh 27 1432 5\n"
     ]
    }
   ],
   "source": [
    "#Multi Level Inheritance\n",
    "class person:\n",
    "    def __init__(self, name, age):\n",
    "        self.name = name\n",
    "        self.age = age\n",
    "\n",
    "class employee(person):\n",
    "    def __init__(self, name, age, id):\n",
    "        person.__init__(self,name,age)\n",
    "        self.id = id\n",
    "\n",
    "class technician(person):\n",
    "    def __init__(self, name, age, id, payperhour):\n",
    "        employee.__init__(self,name,age,id)\n",
    "        self.payperhour = payperhour\n",
    "\n",
    "    def get_details(self):\n",
    "        print(f\"{self.name} {self.age} {self.id} {self.payperhour}\")\n",
    "\n",
    "t = technician(\"rajesh\",27,1432,5)\n",
    "t.get_details()"
   ]
  },
  {
   "cell_type": "code",
   "execution_count": 39,
   "metadata": {},
   "outputs": [
    {
     "name": "stdout",
     "output_type": "stream",
     "text": [
      "Rajesh 23 1123 ineuron\n"
     ]
    }
   ],
   "source": [
    "# Multiple Inheritance\n",
    "class vendor:\n",
    "    def __init__(self, vendor_name):\n",
    "        self.vendor_name = vendor_name\n",
    "\n",
    "class consultant(employee, vendor):\n",
    "    def __init__(self, name, age, id, vendor_name):\n",
    "        employee.__init__(self,name,age,id)\n",
    "        vendor.__init__(self,vendor_name)\n",
    "\n",
    "    def get_details(self):\n",
    "        print(f\"{self.name} {self.age} {self.id} {self.vendor_name}\")\n",
    "\n",
    "c = consultant(\"Rajesh\", 23, 1123, \"ineuron\")\n",
    "c.get_details()"
   ]
  },
  {
   "cell_type": "markdown",
   "metadata": {},
   "source": [
    "## Q2. Create your own class to represent polymorphism ##"
   ]
  },
  {
   "cell_type": "code",
   "execution_count": 41,
   "metadata": {},
   "outputs": [
    {
     "name": "stdout",
     "output_type": "stream",
     "text": [
      "driving car\n",
      "driving toyota\n",
      "driving innova\n"
     ]
    }
   ],
   "source": [
    "class car:\n",
    "    def drive(self):\n",
    "        print(\"driving car\")\n",
    "\n",
    "class toyota(car):\n",
    "    def drive(self):\n",
    "        print(\"driving toyota\")\n",
    "\n",
    "class innova(car):\n",
    "    def drive(self):\n",
    "        print(\"driving innova\")\n",
    "\n",
    "c = car()\n",
    "t = toyota()\n",
    "i = innova()\n",
    "\n",
    "c.drive()\n",
    "t.drive()\n",
    "i.drive()"
   ]
  },
  {
   "cell_type": "markdown",
   "metadata": {},
   "source": [
    "## Q3. Create your own class for custom exception ##"
   ]
  },
  {
   "cell_type": "code",
   "execution_count": 42,
   "metadata": {},
   "outputs": [
    {
     "name": "stdout",
     "output_type": "stream",
     "text": [
      "Custom error\n"
     ]
    }
   ],
   "source": [
    "class CustomError(Exception):\n",
    "    def __init__(self, msg):\n",
    "        self.msg = msg\n",
    "\n",
    "try:\n",
    "    raise(CustomError(\"Custom error\"))\n",
    "except CustomError as ce:\n",
    "    print(ce)"
   ]
  },
  {
   "cell_type": "markdown",
   "metadata": {},
   "source": [
    "## Q4. Create your own class to achieve encapsulation ##"
   ]
  },
  {
   "cell_type": "code",
   "execution_count": 45,
   "metadata": {},
   "outputs": [
    {
     "ename": "AttributeError",
     "evalue": "'xyz' object has no attribute '__x'",
     "output_type": "error",
     "traceback": [
      "\u001b[1;31m---------------------------------------------------------------------------\u001b[0m",
      "\u001b[1;31mAttributeError\u001b[0m                            Traceback (most recent call last)",
      "Cell \u001b[1;32mIn [45], line 7\u001b[0m\n\u001b[0;32m      3\u001b[0m         \u001b[39mself\u001b[39m\u001b[39m.\u001b[39m__x \u001b[39m=\u001b[39m x\n\u001b[0;32m      5\u001b[0m a \u001b[39m=\u001b[39m xyz(\u001b[39m5\u001b[39m)\n\u001b[1;32m----> 7\u001b[0m a\u001b[39m.\u001b[39;49m__x\n",
      "\u001b[1;31mAttributeError\u001b[0m: 'xyz' object has no attribute '__x'"
     ]
    }
   ],
   "source": [
    "class xyz:\n",
    "    def __init__(self,x):\n",
    "        self.__x = x\n",
    "\n",
    "a = xyz(5)\n",
    "\n",
    "a.__x"
   ]
  },
  {
   "cell_type": "code",
   "execution_count": 48,
   "metadata": {},
   "outputs": [
    {
     "data": {
      "text/plain": [
       "5"
      ]
     },
     "execution_count": 48,
     "metadata": {},
     "output_type": "execute_result"
    }
   ],
   "source": [
    "a._xyz__x"
   ]
  },
  {
   "cell_type": "markdown",
   "metadata": {},
   "source": [
    "## Q5. Create your own class to achive method overloading and overriding ##"
   ]
  },
  {
   "cell_type": "code",
   "execution_count": 51,
   "metadata": {},
   "outputs": [
    {
     "name": "stdout",
     "output_type": "stream",
     "text": [
      "3\n",
      "21\n",
      "7\n"
     ]
    }
   ],
   "source": [
    "class calc:\n",
    "    def sum(self,a,b):\n",
    "        print(a+b)\n",
    "\n",
    "    #Method Overloading\n",
    "    def sum(self, *args):\n",
    "        sum = 0\n",
    "        for i in args:\n",
    "            sum += i\n",
    "        print(sum)\n",
    "\n",
    "class scientificcalc(calc):\n",
    "    #Method overriding\n",
    "    def sum(self,a,b):\n",
    "        return a+b\n",
    "\n",
    "\n",
    "a = calc()\n",
    "\n",
    "a.sum(1,2)\n",
    "a.sum(1,2,3,4,5,6)\n",
    "\n",
    "b = scientificcalc()\n",
    "\n",
    "print(b.sum(3,4))"
   ]
  },
  {
   "cell_type": "code",
   "execution_count": null,
   "metadata": {},
   "outputs": [],
   "source": []
  }
 ],
 "metadata": {
  "kernelspec": {
   "display_name": "Python 3.10.4 ('learn')",
   "language": "python",
   "name": "python3"
  },
  "language_info": {
   "codemirror_mode": {
    "name": "ipython",
    "version": 3
   },
   "file_extension": ".py",
   "mimetype": "text/x-python",
   "name": "python",
   "nbconvert_exporter": "python",
   "pygments_lexer": "ipython3",
   "version": "3.10.4"
  },
  "orig_nbformat": 4,
  "vscode": {
   "interpreter": {
    "hash": "0750a4709d810ae3af353e03b92d85dbaf7311770814754218959397e9f0a4b4"
   }
  }
 },
 "nbformat": 4,
 "nbformat_minor": 2
}
